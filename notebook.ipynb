{
 "cells": [
  {
   "cell_type": "code",
   "execution_count": 3,
   "metadata": {},
   "outputs": [
    {
     "data": {
      "text/plain": [
       "True"
      ]
     },
     "execution_count": 3,
     "metadata": {},
     "output_type": "execute_result"
    }
   ],
   "source": [
    "from dotenv import load_dotenv\n",
    "from os import getenv\n",
    "import json, requests\n",
    "load_dotenv()"
   ]
  },
  {
   "cell_type": "code",
   "execution_count": 4,
   "metadata": {},
   "outputs": [],
   "source": [
    "CERT_URI = r'https://api.cert.tastyworks.com'\n",
    "CERT_WSS = r'wss://streamer.cert.tastyworks.com'\n",
    "\n",
    "PROD_URI = r'https://api.tastyworks.com'\n",
    "PROD_WSS = r'wss://streamer.tastyworks.com'"
   ]
  },
  {
   "cell_type": "code",
   "execution_count": 13,
   "metadata": {},
   "outputs": [],
   "source": [
    "class TTApi:\n",
    "    headers: dict = {}\n",
    "\n",
    "    def __init__(self) -> None:\n",
    "        self.headers[\"Content-Type\"] = \"application/json\"\n",
    "        self.headers[\"Accept\"] = \"application/json\"\n",
    "    def __post(\n",
    "            self, endpoint:str = None, body:dict={}, headers:dict=None\n",
    "    ) -> requests.Response:\n",
    "        if headers is None:\n",
    "            headers = self.headers\n",
    "\n",
    "        response = requests.post(\n",
    "            self.tt_uri + endpoint,\n",
    "            data=json.dumps(body),\n",
    "            headers=headers\n",
    "        )\n",
    "\n",
    "        if response.status_code == 201:\n",
    "            return response.json()\n",
    "        \n",
    "        print(f\"Error {response.status_code}\")\n",
    "        print(f\"Endpoint: {endpoint}\")\n",
    "        print(f\"Body: {body}\")\n",
    "        print(f\"Headers: {headers}\")\n",
    "        print(f\"Response: {response.text}\")\n",
    "        return None\n",
    "\n",
    "\n",
    "    def login(self, username, password, mfa:str|None = None) -> bool:\n",
    "        body = {\n",
    "            'login':username,\n",
    "            'password':password,\n",
    "            'remember-me':True\n",
    "        }\n",
    "        \n",
    "        if mfa is not None:\n",
    "            self.headers['X-Tastyworks-OTP'] = mfa\n",
    "            self.tt_uri = PROD_URI\n",
    "            self.wss_uri = PROD_WSS\n",
    "\n",
    "        else:\n",
    "            self.tt_uri = CERT_URI\n",
    "            self.wss_uri = CERT_WSS\n",
    "\n",
    "        response = self.__post('/sessions', body=body, headers=self.headers)\n",
    "        if response is None:\n",
    "            return False\n",
    "        \n",
    "        self.user_data = response['data']['user']\n",
    "        self.session_token = response['data']['session-token']\n",
    "        self.headers['Authorization'] = self.session_token\n",
    "\n",
    "        if mfa is not None:\n",
    "            del self.headers['X-Tastyworks-OTP']"
   ]
  },
  {
   "cell_type": "code",
   "execution_count": 14,
   "metadata": {},
   "outputs": [
    {
     "ename": "AttributeError",
     "evalue": "'TTApi' object has no attribute 'username'",
     "output_type": "error",
     "traceback": [
      "\u001b[1;31m---------------------------------------------------------------------------\u001b[0m",
      "\u001b[1;31mAttributeError\u001b[0m                            Traceback (most recent call last)",
      "Cell \u001b[1;32mIn[14], line 2\u001b[0m\n\u001b[0;32m      1\u001b[0m api \u001b[38;5;241m=\u001b[39m TTApi()\n\u001b[1;32m----> 2\u001b[0m \u001b[43mapi\u001b[49m\u001b[38;5;241;43m.\u001b[39;49m\u001b[43mlogin\u001b[49m\u001b[43m(\u001b[49m\u001b[43mgetenv\u001b[49m\u001b[43m(\u001b[49m\u001b[38;5;124;43m'\u001b[39;49m\u001b[38;5;124;43musername\u001b[39;49m\u001b[38;5;124;43m'\u001b[39;49m\u001b[43m)\u001b[49m\u001b[43m,\u001b[49m\u001b[43m \u001b[49m\u001b[43mgetenv\u001b[49m\u001b[43m(\u001b[49m\u001b[38;5;124;43m'\u001b[39;49m\u001b[38;5;124;43mpassword\u001b[39;49m\u001b[38;5;124;43m'\u001b[39;49m\u001b[43m)\u001b[49m\u001b[43m)\u001b[49m\n",
      "Cell \u001b[1;32mIn[13], line 32\u001b[0m, in \u001b[0;36mTTApi.login\u001b[1;34m(self, username, password, mfa)\u001b[0m\n\u001b[0;32m     30\u001b[0m \u001b[38;5;28;01mdef\u001b[39;00m \u001b[38;5;21mlogin\u001b[39m(\u001b[38;5;28mself\u001b[39m, username, password, mfa:\u001b[38;5;28mstr\u001b[39m\u001b[38;5;241m|\u001b[39m\u001b[38;5;28;01mNone\u001b[39;00m \u001b[38;5;241m=\u001b[39m \u001b[38;5;28;01mNone\u001b[39;00m) \u001b[38;5;241m-\u001b[39m\u001b[38;5;241m>\u001b[39m \u001b[38;5;28mbool\u001b[39m:\n\u001b[0;32m     31\u001b[0m     body \u001b[38;5;241m=\u001b[39m {\n\u001b[1;32m---> 32\u001b[0m         \u001b[38;5;124m'\u001b[39m\u001b[38;5;124mlogin\u001b[39m\u001b[38;5;124m'\u001b[39m:\u001b[38;5;28;43mself\u001b[39;49m\u001b[38;5;241;43m.\u001b[39;49m\u001b[43musername\u001b[49m,\n\u001b[0;32m     33\u001b[0m         \u001b[38;5;124m'\u001b[39m\u001b[38;5;124mpassword\u001b[39m\u001b[38;5;124m'\u001b[39m:\u001b[38;5;28mself\u001b[39m\u001b[38;5;241m.\u001b[39mpassword,\n\u001b[0;32m     34\u001b[0m         \u001b[38;5;124m'\u001b[39m\u001b[38;5;124mremember-me\u001b[39m\u001b[38;5;124m'\u001b[39m:\u001b[38;5;28;01mTrue\u001b[39;00m\n\u001b[0;32m     35\u001b[0m     }\n\u001b[0;32m     37\u001b[0m     \u001b[38;5;28;01mif\u001b[39;00m mfa \u001b[38;5;129;01mis\u001b[39;00m \u001b[38;5;129;01mnot\u001b[39;00m \u001b[38;5;28;01mNone\u001b[39;00m:\n\u001b[0;32m     38\u001b[0m         \u001b[38;5;28mself\u001b[39m\u001b[38;5;241m.\u001b[39mheaders[\u001b[38;5;124m'\u001b[39m\u001b[38;5;124mX-Tastyworks-OTP\u001b[39m\u001b[38;5;124m'\u001b[39m] \u001b[38;5;241m=\u001b[39m mfa\n",
      "\u001b[1;31mAttributeError\u001b[0m: 'TTApi' object has no attribute 'username'"
     ]
    }
   ],
   "source": [
    "api = TTApi()\n",
    "api.login(getenv('username'), getenv('password'))"
   ]
  }
 ],
 "metadata": {
  "kernelspec": {
   "display_name": "venv",
   "language": "python",
   "name": "python3"
  },
  "language_info": {
   "codemirror_mode": {
    "name": "ipython",
    "version": 3
   },
   "file_extension": ".py",
   "mimetype": "text/x-python",
   "name": "python",
   "nbconvert_exporter": "python",
   "pygments_lexer": "ipython3",
   "version": "3.12.3"
  }
 },
 "nbformat": 4,
 "nbformat_minor": 2
}
