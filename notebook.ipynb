{
 "cells": [
  {
   "cell_type": "code",
   "execution_count": 6,
   "metadata": {},
   "outputs": [],
   "source": [
    "import pandas as pd\n",
    "import numpy as np"
   ]
  },
  {
   "cell_type": "code",
   "execution_count": 5,
   "metadata": {},
   "outputs": [],
   "source": [
    "from optionlab import Inputs\n",
    "from optionlab import StrategyEngine"
   ]
  },
  {
   "cell_type": "markdown",
   "metadata": {},
   "source": [
    "Experiment more with OptionLab. greeks are incorrect. Can pricing model be altered?  \n",
    "\n",
    "If not, quantlib may be best option despite complexity."
   ]
  },
  {
   "cell_type": "code",
   "execution_count": 2,
   "metadata": {},
   "outputs": [],
   "source": [
    "inputs_data = {\n",
    "    \"stock_price\": 36.91,\n",
    "    \"start_date\": \"2024-08-07\",\n",
    "    \"target_date\": \"2024-08-16\",\n",
    "    \"volatility\": 0.37,\n",
    "    \"interest_rate\": 0.0509,\n",
    "    \"min_stock\": 25,\n",
    "    \"max_stock\": 40,\n",
    "    \"strategy\": [\n",
    "        {\n",
    "            \"type\": \"call\",\n",
    "            \"strike\": 37,\n",
    "            \"premium\": 0.72,\n",
    "            \"n\": 1,\n",
    "            \"action\":\"sell\"\n",
    "        },\n",
    "        {\n",
    "            \"type\": \"call\",\n",
    "            \"strike\": 37.5,\n",
    "            \"premium\": .55,\n",
    "            \"n\": 1,\n",
    "            \"action\":\"buy\"\n",
    "        }\n",
    "    ],\n",
    "}"
   ]
  },
  {
   "cell_type": "code",
   "execution_count": 3,
   "metadata": {},
   "outputs": [],
   "source": [
    "inputs = Inputs.model_validate(inputs_data)"
   ]
  },
  {
   "cell_type": "code",
   "execution_count": 7,
   "metadata": {},
   "outputs": [],
   "source": [
    "st = StrategyEngine(inputs)\n",
    "out = st.run()"
   ]
  },
  {
   "cell_type": "code",
   "execution_count": 12,
   "metadata": {},
   "outputs": [
    {
     "data": {
      "text/plain": [
       "[-0.5081901001942646, 0.4273671442871983]"
      ]
     },
     "execution_count": 12,
     "metadata": {},
     "output_type": "execute_result"
    }
   ],
   "source": [
    "out.delta"
   ]
  },
  {
   "cell_type": "code",
   "execution_count": 2,
   "metadata": {},
   "outputs": [],
   "source": [
    "greeks = dict()\n",
    "greeks['delta'] = 10.75\n",
    "greeks['gamma'] = -1.57\n",
    "greeks['theta'] = 0.083\n",
    "greeks['vega'] = -0.41"
   ]
  },
  {
   "cell_type": "code",
   "execution_count": 19,
   "metadata": {},
   "outputs": [],
   "source": [
    "lot_size = 1\n",
    "multiplier = 100\n",
    "iv = 0.3\n",
    "s_0 = 37.58\n",
    "dte = 33 # days\n",
    "position_cost = -0.33\n",
    "position_value = position_cost * lot_size * multiplier"
   ]
  },
  {
   "cell_type": "code",
   "execution_count": 50,
   "metadata": {},
   "outputs": [
    {
     "data": {
      "text/html": [
       "<div>\n",
       "<style scoped>\n",
       "    .dataframe tbody tr th:only-of-type {\n",
       "        vertical-align: middle;\n",
       "    }\n",
       "\n",
       "    .dataframe tbody tr th {\n",
       "        vertical-align: top;\n",
       "    }\n",
       "\n",
       "    .dataframe thead th {\n",
       "        text-align: right;\n",
       "    }\n",
       "</style>\n",
       "<table border=\"1\" class=\"dataframe\">\n",
       "  <thead>\n",
       "    <tr style=\"text-align: right;\">\n",
       "      <th></th>\n",
       "      <th>0</th>\n",
       "      <th>1</th>\n",
       "    </tr>\n",
       "  </thead>\n",
       "  <tbody>\n",
       "    <tr>\n",
       "      <th>0</th>\n",
       "      <td>37.20</td>\n",
       "      <td>-4.311708</td>\n",
       "    </tr>\n",
       "    <tr>\n",
       "      <th>1</th>\n",
       "      <td>37.25</td>\n",
       "      <td>-3.718473</td>\n",
       "    </tr>\n",
       "    <tr>\n",
       "      <th>2</th>\n",
       "      <td>37.30</td>\n",
       "      <td>-3.133088</td>\n",
       "    </tr>\n",
       "    <tr>\n",
       "      <th>3</th>\n",
       "      <td>37.35</td>\n",
       "      <td>-2.555553</td>\n",
       "    </tr>\n",
       "    <tr>\n",
       "      <th>4</th>\n",
       "      <td>37.40</td>\n",
       "      <td>-1.985868</td>\n",
       "    </tr>\n",
       "    <tr>\n",
       "      <th>5</th>\n",
       "      <td>37.45</td>\n",
       "      <td>-1.424033</td>\n",
       "    </tr>\n",
       "    <tr>\n",
       "      <th>6</th>\n",
       "      <td>37.50</td>\n",
       "      <td>-0.870048</td>\n",
       "    </tr>\n",
       "    <tr>\n",
       "      <th>7</th>\n",
       "      <td>37.55</td>\n",
       "      <td>-0.323913</td>\n",
       "    </tr>\n",
       "    <tr>\n",
       "      <th>8</th>\n",
       "      <td>37.60</td>\n",
       "      <td>0.214372</td>\n",
       "    </tr>\n",
       "    <tr>\n",
       "      <th>9</th>\n",
       "      <td>37.65</td>\n",
       "      <td>0.744807</td>\n",
       "    </tr>\n",
       "    <tr>\n",
       "      <th>10</th>\n",
       "      <td>37.70</td>\n",
       "      <td>1.267392</td>\n",
       "    </tr>\n",
       "    <tr>\n",
       "      <th>11</th>\n",
       "      <td>37.75</td>\n",
       "      <td>1.782127</td>\n",
       "    </tr>\n",
       "    <tr>\n",
       "      <th>12</th>\n",
       "      <td>37.80</td>\n",
       "      <td>2.289012</td>\n",
       "    </tr>\n",
       "    <tr>\n",
       "      <th>13</th>\n",
       "      <td>37.85</td>\n",
       "      <td>2.788047</td>\n",
       "    </tr>\n",
       "    <tr>\n",
       "      <th>14</th>\n",
       "      <td>37.90</td>\n",
       "      <td>3.279232</td>\n",
       "    </tr>\n",
       "    <tr>\n",
       "      <th>15</th>\n",
       "      <td>37.95</td>\n",
       "      <td>3.762567</td>\n",
       "    </tr>\n",
       "  </tbody>\n",
       "</table>\n",
       "</div>"
      ],
      "text/plain": [
       "        0         1\n",
       "0   37.20 -4.311708\n",
       "1   37.25 -3.718473\n",
       "2   37.30 -3.133088\n",
       "3   37.35 -2.555553\n",
       "4   37.40 -1.985868\n",
       "5   37.45 -1.424033\n",
       "6   37.50 -0.870048\n",
       "7   37.55 -0.323913\n",
       "8   37.60  0.214372\n",
       "9   37.65  0.744807\n",
       "10  37.70  1.267392\n",
       "11  37.75  1.782127\n",
       "12  37.80  2.289012\n",
       "13  37.85  2.788047\n",
       "14  37.90  3.279232\n",
       "15  37.95  3.762567"
      ]
     },
     "execution_count": 50,
     "metadata": {},
     "output_type": "execute_result"
    }
   ],
   "source": [
    "s_min = round(s_0 * 0.99, 2)\n",
    "s_max = round(s_0 * 1.01, 2)\n",
    "price_range = np.arange(s_min, s_max, .05)\n",
    "price_difference = price_range - s_0\n",
    "adjusted_delta = greeks['delta'] + price_difference * greeks['gamma']\n",
    "new_value = position_value + price_difference * adjusted_delta\n",
    "pnl = new_value - position_value\n",
    "delta_pnl = pd.DataFrame((price_range, pnl)).T\n",
    "delta_pnl"
   ]
  }
 ],
 "metadata": {
  "kernelspec": {
   "display_name": "venv",
   "language": "python",
   "name": "python3"
  },
  "language_info": {
   "codemirror_mode": {
    "name": "ipython",
    "version": 3
   },
   "file_extension": ".py",
   "mimetype": "text/x-python",
   "name": "python",
   "nbconvert_exporter": "python",
   "pygments_lexer": "ipython3",
   "version": "3.12.3"
  }
 },
 "nbformat": 4,
 "nbformat_minor": 2
}
