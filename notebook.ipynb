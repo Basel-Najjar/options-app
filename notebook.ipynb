{
 "cells": [
  {
   "cell_type": "code",
   "execution_count": 11,
   "metadata": {},
   "outputs": [],
   "source": [
    "from tastytrade import Session, Account\n",
    "import pandas as pd\n",
    "import plotly.graph_objects as go\n",
    "import plotly.express as px\n",
    "\n",
    "from src.plotting import *\n",
    "from src.constants import *\n",
    "from src.functions import *\n",
    "from dotenv import dotenv_values\n",
    "\n",
    "config = dotenv_values()"
   ]
  },
  {
   "cell_type": "code",
   "execution_count": 17,
   "metadata": {},
   "outputs": [
    {
     "name": "stdout",
     "output_type": "stream",
     "text": [
      "account_number='5WY57692' cash_balance=Decimal('0.0') long_equity_value=Decimal('0.0') short_equity_value=Decimal('0.0') long_derivative_value=Decimal('0.0') short_derivative_value=Decimal('0.0') long_futures_value=Decimal('0.0') short_futures_value=Decimal('0.0') long_futures_derivative_value=Decimal('0.0') short_futures_derivative_value=Decimal('0.0') long_margineable_value=Decimal('0.0') short_margineable_value=Decimal('0.0') margin_equity=Decimal('0.0') equity_buying_power=Decimal('0.0') derivative_buying_power=Decimal('0.0') day_trading_buying_power=Decimal('0.0') futures_margin_requirement=Decimal('0.0') available_trading_funds=Decimal('0.0') maintenance_requirement=Decimal('0.0') maintenance_call_value=Decimal('0.0') reg_t_call_value=Decimal('0.0') day_trading_call_value=Decimal('0.0') day_equity_call_value=Decimal('0.0') net_liquidating_value=Decimal('0.0') cash_available_to_withdraw=Decimal('0.0') day_trade_excess=Decimal('0.0') pending_cash=Decimal('0.0') pending_cash_effect=<PriceEffect.NONE: 'None'> long_cryptocurrency_value=Decimal('0.0') short_cryptocurrency_value=Decimal('0.0') cryptocurrency_margin_requirement=Decimal('0.0') unsettled_cryptocurrency_fiat_amount=Decimal('0.0') unsettled_cryptocurrency_fiat_effect=<PriceEffect.NONE: 'None'> closed_loop_available_balance=Decimal('0.0') equity_offering_margin_requirement=Decimal('0.0') long_bond_value=Decimal('0.0') bond_margin_requirement=Decimal('0.0') snapshot_date=datetime.date(2024, 5, 23) reg_t_margin_requirement=Decimal('0.0') futures_overnight_margin_requirement=Decimal('0.0') futures_intraday_margin_requirement=Decimal('0.0') maintenance_excess=Decimal('0.0') pending_margin_interest=Decimal('0.0') effective_cryptocurrency_buying_power=Decimal('0.0') updated_at=datetime.datetime(2024, 5, 23, 2, 29, 12, 622000, tzinfo=TzInfo(UTC)) apex_starting_day_margin_equity=None buying_power_adjustment=None buying_power_adjustment_effect=None time_of_day=None\n"
     ]
    }
   ],
   "source": [
    "session = Session(config['email'], config['password'], is_test=True)\n",
    "account = Account.get_account(session, '5WY57692')\n",
    "balance = account.get_balances(session)\n",
    "print(balance)"
   ]
  },
  {
   "cell_type": "code",
   "execution_count": null,
   "metadata": {},
   "outputs": [],
   "source": [
    "returns_on_interval = ((df['close'].shift(-1) - df['close'])/df['close'].shift(-1)).dropna()\n",
    "fig = px.histogram(returns_on_interval)\n",
    "fig.update_layout(bargap=0.05)"
   ]
  },
  {
   "cell_type": "code",
   "execution_count": null,
   "metadata": {},
   "outputs": [],
   "source": [
    "plot_candles(df)"
   ]
  }
 ],
 "metadata": {
  "kernelspec": {
   "display_name": "venv",
   "language": "python",
   "name": "python3"
  },
  "language_info": {
   "codemirror_mode": {
    "name": "ipython",
    "version": 3
   },
   "file_extension": ".py",
   "mimetype": "text/x-python",
   "name": "python",
   "nbconvert_exporter": "python",
   "pygments_lexer": "ipython3",
   "version": "3.11.9"
  }
 },
 "nbformat": 4,
 "nbformat_minor": 2
}
