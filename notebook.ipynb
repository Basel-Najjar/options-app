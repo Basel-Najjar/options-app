{
 "cells": [
  {
   "cell_type": "code",
   "execution_count": 1,
   "metadata": {},
   "outputs": [],
   "source": [
    "import pandas as pd\n",
    "import numpy as np\n",
    "from scipy.stats import norm\n",
    "\n",
    "from datetime import datetime, date\n",
    "import matplotlib.pyplot as plt\n",
    "from tastytrade.instruments import Equity, Option, get_option_chain, NestedOptionChain\n",
    "\n",
    "from src.strategy import OptionStrategy\n",
    "from src.utils import *\n",
    "from src.pricing import black_scholes_merton\n",
    "from src.market_data import get_greeks\n",
    "\n",
    "from src.constants import *\n",
    "from src.auth import Auth\n",
    "\n",
    "import os"
   ]
  },
  {
   "cell_type": "code",
   "execution_count": 2,
   "metadata": {},
   "outputs": [
    {
     "name": "stdout",
     "output_type": "stream",
     "text": [
      "Logging in with remember Token.\n",
      "Failed to login with Token.\n",
      "Valid session: True\n"
     ]
    }
   ],
   "source": [
    "auth = Auth()\n",
    "auth.login()\n",
    "session = auth.session"
   ]
  },
  {
   "cell_type": "code",
   "execution_count": 3,
   "metadata": {},
   "outputs": [],
   "source": [
    "strategy = OptionStrategy(\n",
    "    underlying='WMT',\n",
    "    session=session\n",
    ")\n",
    "\n",
    "await strategy.add_leg(\n",
    "    contract_type='call',\n",
    "    strike=80,\n",
    "    expiration=date(2024, 9, 20),\n",
    "    lot_size=1,\n",
    ")\n"
   ]
  },
  {
   "cell_type": "code",
   "execution_count": 9,
   "metadata": {},
   "outputs": [
    {
     "name": "stdout",
     "output_type": "stream",
     "text": [
      "0.1684533380346219\n"
     ]
    }
   ],
   "source": [
    "for leg in strategy.legs:\n",
    "    print(leg.greeks.volatility)"
   ]
  },
  {
   "cell_type": "code",
   "execution_count": 10,
   "metadata": {},
   "outputs": [
    {
     "data": {
      "text/plain": [
       "np.float64(0.9924944249302499)"
      ]
     },
     "execution_count": 10,
     "metadata": {},
     "output_type": "execute_result"
    }
   ],
   "source": [
    "black_scholes_merton(\n",
    "    S = strategy.s0,\n",
    "    K = strategy.legs[0].strike,\n",
    "    T = strategy.legs[0].T,\n",
    "    r = strategy.r,\n",
    "    sigma = strategy.legs[0].greeks.volatility,\n",
    "    contract_type=strategy.legs[0].contract_type\n",
    ")"
   ]
  }
 ],
 "metadata": {
  "kernelspec": {
   "display_name": "venv",
   "language": "python",
   "name": "python3"
  },
  "language_info": {
   "codemirror_mode": {
    "name": "ipython",
    "version": 3
   },
   "file_extension": ".py",
   "mimetype": "text/x-python",
   "name": "python",
   "nbconvert_exporter": "python",
   "pygments_lexer": "ipython3",
   "version": "3.12.3"
  }
 },
 "nbformat": 4,
 "nbformat_minor": 2
}
