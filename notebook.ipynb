{
 "cells": [
  {
   "cell_type": "code",
   "execution_count": 1,
   "metadata": {},
   "outputs": [],
   "source": [
    "import pandas as pd\n",
    "import numpy as np\n",
    "from scipy.stats import norm\n",
    "\n",
    "from datetime import datetime, date\n",
    "import matplotlib.pyplot as plt\n",
    "from tastytrade.instruments import Equity, Option, get_option_chain, NestedOptionChain\n",
    "\n",
    "from src.strategy import OptionStrategy\n",
    "from src.utils import *\n",
    "from src.pricing import black_scholes_merton\n",
    "from src.market_data import get_greeks\n",
    "\n",
    "from src.constants import *\n",
    "from src.auth import Auth\n",
    "\n",
    "import os"
   ]
  },
  {
   "cell_type": "code",
   "execution_count": 2,
   "metadata": {},
   "outputs": [
    {
     "name": "stdout",
     "output_type": "stream",
     "text": [
      "Logging in with remember Token.\n",
      "Failed to login with Token.\n",
      "Valid session: True\n"
     ]
    }
   ],
   "source": [
    "auth = Auth()\n",
    "auth.login()\n",
    "session = auth.session"
   ]
  },
  {
   "cell_type": "code",
   "execution_count": 32,
   "metadata": {},
   "outputs": [],
   "source": [
    "strategy = OptionStrategy(\n",
    "    underlying='WMT',\n",
    "    session=session\n",
    ")\n",
    "\n",
    "await strategy.add_leg(\n",
    "    contract_type='call',\n",
    "    strike=80,\n",
    "    expiration=date(2024, 10, 25),\n",
    "    lot_size=1,\n",
    ")\n",
    "\n",
    "await strategy.add_leg(\n",
    "    contract_type='call',\n",
    "    strike=82,\n",
    "    expiration=date(2024, 10, 25),\n",
    "    lot_size=-1,\n",
    ")\n"
   ]
  },
  {
   "cell_type": "code",
   "execution_count": 45,
   "metadata": {},
   "outputs": [],
   "source": [
    "price_range = generate_price_range(base_value=strategy.s0)\n",
    "theo_price = np.empty(shape=(len(strategy.legs), len(price_range)))\n",
    "for i, leg in enumerate(strategy.legs):\n",
    "    leg_price = leg.lot_size * black_scholes_merton(\n",
    "        S = price_range,\n",
    "        K = leg.strike,\n",
    "        T = leg.T,\n",
    "        r = strategy.r,\n",
    "        sigma = leg.greeks.volatility,\n",
    "        contract_type=leg.contract_type\n",
    "    )\n",
    "    \n",
    "    theo_price[i] = leg_price"
   ]
  },
  {
   "cell_type": "code",
   "execution_count": 49,
   "metadata": {},
   "outputs": [
    {
     "data": {
      "text/plain": [
       "<matplotlib.collections.PathCollection at 0x1677b886660>"
      ]
     },
     "execution_count": 49,
     "metadata": {},
     "output_type": "execute_result"
    },
    {
     "data": {
      "image/png": "[encoded data removed]",
      "text/plain": [
       "<Figure size 640x480 with 1 Axes>"
      ]
     },
     "metadata": {},
     "output_type": "display_data"
    }
   ],
   "source": [
    "df = pd.DataFrame(\n",
    "    {\n",
    "        'S':price_range,\n",
    "        'V':theo_price.sum(axis=0)\n",
    "        \n",
    "    }\n",
    ")\n",
    "plt.scatter(df['S'], df['V'])"
   ]
  }
 ],
 "metadata": {
  "kernelspec": {
   "display_name": "venv",
   "language": "python",
   "name": "python3"
  },
  "language_info": {
   "codemirror_mode": {
    "name": "ipython",
    "version": 3
   },
   "file_extension": ".py",
   "mimetype": "text/x-python",
   "name": "python",
   "nbconvert_exporter": "python",
   "pygments_lexer": "ipython3",
   "version": "3.12.3"
  }
 },
 "nbformat": 4,
 "nbformat_minor": 2
}
