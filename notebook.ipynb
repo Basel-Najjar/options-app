{
 "cells": [
  {
   "cell_type": "code",
   "execution_count": 44,
   "metadata": {},
   "outputs": [],
   "source": [
    "import pandas as pd\n",
    "import numpy as np\n",
    "from datetime import datetime"
   ]
  },
  {
   "cell_type": "code",
   "execution_count": 71,
   "metadata": {},
   "outputs": [],
   "source": [
    "from optionlab import Inputs\n",
    "from optionlab import StrategyEngine\n",
    "from optionlab.black_scholes import get_implied_vol, get_bs_info"
   ]
  },
  {
   "cell_type": "markdown",
   "metadata": {},
   "source": [
    "Need custom implementaiton of BSM - theta values are incorrect"
   ]
  },
  {
   "cell_type": "code",
   "execution_count": 96,
   "metadata": {},
   "outputs": [],
   "source": [
    "class CustomStrategy:\n",
    "    def __init__(\n",
    "            self,\n",
    "            underlying:str,\n",
    "            s0:float,\n",
    "            r:float\n",
    "        ):\n",
    "        '''\n",
    "        Custom options strategy containing n legs.\n",
    "        Arguments:\n",
    "            underlying (str): Underlying equity or index symbol.\n",
    "            s0 (float): Current stock price.\n",
    "            r (float): Current risk-free rate.\n",
    "\n",
    "        '''\n",
    "        self.underlying = underlying.upper()\n",
    "        self.s0 = s0\n",
    "        self.r = r\n",
    "        self.legs = list()\n",
    "\n",
    "    def add_leg(\n",
    "        self,\n",
    "        type:str,\n",
    "        strike:float,\n",
    "        contract_price:float,\n",
    "        n_contracts:int,\n",
    "        expiration:datetime,\n",
    "    ):\n",
    "        '''\n",
    "        Define one leg of a strategy.\n",
    "        Arguments:\n",
    "            type (str): Contract type, either call or put\n",
    "            strike (float): Strike price of the contract\n",
    "            oprice (float): Current option contract price\n",
    "            n_contracts (int): Number of contracts. Positive number denotes hold contract (buy), negative number denotes write contract (sell)\n",
    "            expiration (datetime): Contract expiration date\n",
    "\n",
    "        '''\n",
    "        assert type in ['call', 'put'], \"Contract type must be either 'call' or 'put'\"\n",
    "\n",
    "        dte = int(np.ceil(((expiration - datetime.today()).total_seconds() / (24*60*60))))\n",
    "        assert dte > 0, \"Contract must have positive time to expiration.\"\n",
    "\n",
    "        leg = {\n",
    "            'type': type,\n",
    "            'strike': strike,\n",
    "            'contract_price': contract_price,\n",
    "            'n_contracts': n_contracts,\n",
    "            'dte':dte,\n",
    "        }\n",
    "        \n",
    "        leg['iv'] = self.compute_iv(leg)\n",
    "        leg['greeks'] = self.compute_greeks(leg)\n",
    "\n",
    "        self.legs.append(leg)\n",
    "\n",
    "    def show_strategy(self):\n",
    "        '''\n",
    "        Prints out all the legs in the current strategy.\n",
    "        '''\n",
    "        for idx, leg in enumerate(self.legs):\n",
    "            print(f\"Leg {idx + 1}: {leg['position']} {leg['type']} with strike {leg['strike']} at price {leg['contract_price']}\")\n",
    "\n",
    "    def compute_iv(self, leg):\n",
    "        return get_implied_vol(\n",
    "            option_type=leg['type'], \n",
    "            oprice=leg['contract_price'], \n",
    "            s0 = self.s0, \n",
    "            x=leg['strike'], \n",
    "            r = self.r, \n",
    "            years_to_maturity=leg['dte']/365\n",
    "            )\n",
    "    \n",
    "    def compute_greeks(self, leg):\n",
    "        bs_out = get_bs_info(\n",
    "            s=self.s0, \n",
    "            x=leg['strike'], \n",
    "            r=self.r, \n",
    "            vol=leg['iv'], \n",
    "            years_to_maturity=leg['dte']/365,\n",
    "            y=0\n",
    "        )\n",
    "        if leg['type'] == 'call':\n",
    "            return {\n",
    "                'delta':bs_out.call_delta * leg['n_contracts'],\n",
    "                'gamma':bs_out.gamma * leg['n_contracts'],\n",
    "                'theta':bs_out.call_theta * leg['n_contracts'],\n",
    "                'vega':bs_out.vega * leg['n_contracts'],\n",
    "                }\n",
    "        elif leg['type'] == 'put':\n",
    "            return {\n",
    "                'delta':bs_out.put_delta * leg['n_contracts'],\n",
    "                'gamma':bs_out.gamma * leg['n_contracts'],\n",
    "                'theta':bs_out.put_theta * leg['n_contracts'],\n",
    "                'vega':bs_out.vega * leg['n_contracts'],\n",
    "                }"
   ]
  },
  {
   "cell_type": "code",
   "execution_count": 111,
   "metadata": {},
   "outputs": [
    {
     "data": {
      "text/plain": [
       "[{'type': 'call',\n",
       "  'strike': 31,\n",
       "  'option_price': 1.15,\n",
       "  'n_contracts': 1,\n",
       "  'dte': 96,\n",
       "  'iv': np.float64(0.234),\n",
       "  'greeks': {'delta': 0.4517166386965442,\n",
       "   'gamma': 0.1099253758369025,\n",
       "   'theta': -3.201338848315243,\n",
       "   'vega': 0.06096963020923225}}]"
      ]
     },
     "execution_count": 111,
     "metadata": {},
     "output_type": "execute_result"
    }
   ],
   "source": [
    "strategy = CustomStrategy('pltr', 30.02, 0.0394)\n",
    "strategy.add_leg('call', 31, 1.15, 1, datetime(2024, 11, 15))\n",
    "strategy.legs"
   ]
  },
  {
   "cell_type": "code",
   "execution_count": 75,
   "metadata": {},
   "outputs": [],
   "source": [
    "s0 = 30.02 # stock price\n",
    "x = 29.5 # strike\n",
    "oprice = 1.15\n",
    "r=0.04"
   ]
  },
  {
   "cell_type": "code",
   "execution_count": null,
   "metadata": {},
   "outputs": [],
   "source": [
    "get_bs_info()"
   ]
  },
  {
   "cell_type": "code",
   "execution_count": 78,
   "metadata": {},
   "outputs": [
    {
     "data": {
      "text/plain": [
       "0.6150004893443535"
      ]
     },
     "execution_count": 78,
     "metadata": {},
     "output_type": "execute_result"
    }
   ],
   "source": [
    "bs_out = get_bs_info(s0, x, r, 0.55, 6/365, )\n",
    "bs_out.call_delta"
   ]
  },
  {
   "cell_type": "code",
   "execution_count": 68,
   "metadata": {},
   "outputs": [],
   "source": [
    "inputs_data = {\n",
    "    \"stock_price\": 30.02,\n",
    "    \"start_date\": \"2024-08-11\",\n",
    "    \"target_date\": \"2024-08-16\",\n",
    "    \"volatility\": 0.5576,\n",
    "    \"interest_rate\": 0.0509,\n",
    "    \"min_stock\": 25,\n",
    "    \"max_stock\": 40,\n",
    "    \"strategy\": [\n",
    "        {\n",
    "            \"type\": \"call\",\n",
    "            \"strike\": 29,\n",
    "            \"premium\": 1.52,\n",
    "            \"n\": 1,\n",
    "            \"action\":\"buy\"\n",
    "        }\n",
    "    ],\n",
    "}"
   ]
  },
  {
   "cell_type": "code",
   "execution_count": 69,
   "metadata": {},
   "outputs": [
    {
     "ename": "ValidationError",
     "evalue": "2 validation errors for Inputs\nmin_stock\n  Field required [type=missing, input_value={'stock_price': 30.02, 's...': 1, 'action': 'buy'}]}, input_type=dict]\n    For further information visit https://errors.pydantic.dev/2.8/v/missing\nmax_stock\n  Field required [type=missing, input_value={'stock_price': 30.02, 's...': 1, 'action': 'buy'}]}, input_type=dict]\n    For further information visit https://errors.pydantic.dev/2.8/v/missing",
     "output_type": "error",
     "traceback": [
      "\u001b[1;31m---------------------------------------------------------------------------\u001b[0m",
      "\u001b[1;31mValidationError\u001b[0m                           Traceback (most recent call last)",
      "Cell \u001b[1;32mIn[69], line 1\u001b[0m\n\u001b[1;32m----> 1\u001b[0m inputs \u001b[38;5;241m=\u001b[39m \u001b[43mInputs\u001b[49m\u001b[38;5;241;43m.\u001b[39;49m\u001b[43mmodel_validate\u001b[49m\u001b[43m(\u001b[49m\u001b[43minputs_data\u001b[49m\u001b[43m,\u001b[49m\u001b[43m)\u001b[49m\n\u001b[0;32m      2\u001b[0m st \u001b[38;5;241m=\u001b[39m StrategyEngine(inputs,)\n\u001b[0;32m      3\u001b[0m out \u001b[38;5;241m=\u001b[39m st\u001b[38;5;241m.\u001b[39mrun()\n",
      "File \u001b[1;32mc:\\Projects\\options-app\\venv\\Lib\\site-packages\\pydantic\\main.py:568\u001b[0m, in \u001b[0;36mBaseModel.model_validate\u001b[1;34m(cls, obj, strict, from_attributes, context)\u001b[0m\n\u001b[0;32m    566\u001b[0m \u001b[38;5;66;03m# `__tracebackhide__` tells pytest and some other tools to omit this function from tracebacks\u001b[39;00m\n\u001b[0;32m    567\u001b[0m __tracebackhide__ \u001b[38;5;241m=\u001b[39m \u001b[38;5;28;01mTrue\u001b[39;00m\n\u001b[1;32m--> 568\u001b[0m \u001b[38;5;28;01mreturn\u001b[39;00m \u001b[38;5;28;43mcls\u001b[39;49m\u001b[38;5;241;43m.\u001b[39;49m\u001b[43m__pydantic_validator__\u001b[49m\u001b[38;5;241;43m.\u001b[39;49m\u001b[43mvalidate_python\u001b[49m\u001b[43m(\u001b[49m\n\u001b[0;32m    569\u001b[0m \u001b[43m    \u001b[49m\u001b[43mobj\u001b[49m\u001b[43m,\u001b[49m\u001b[43m \u001b[49m\u001b[43mstrict\u001b[49m\u001b[38;5;241;43m=\u001b[39;49m\u001b[43mstrict\u001b[49m\u001b[43m,\u001b[49m\u001b[43m \u001b[49m\u001b[43mfrom_attributes\u001b[49m\u001b[38;5;241;43m=\u001b[39;49m\u001b[43mfrom_attributes\u001b[49m\u001b[43m,\u001b[49m\u001b[43m \u001b[49m\u001b[43mcontext\u001b[49m\u001b[38;5;241;43m=\u001b[39;49m\u001b[43mcontext\u001b[49m\n\u001b[0;32m    570\u001b[0m \u001b[43m\u001b[49m\u001b[43m)\u001b[49m\n",
      "\u001b[1;31mValidationError\u001b[0m: 2 validation errors for Inputs\nmin_stock\n  Field required [type=missing, input_value={'stock_price': 30.02, 's...': 1, 'action': 'buy'}]}, input_type=dict]\n    For further information visit https://errors.pydantic.dev/2.8/v/missing\nmax_stock\n  Field required [type=missing, input_value={'stock_price': 30.02, 's...': 1, 'action': 'buy'}]}, input_type=dict]\n    For further information visit https://errors.pydantic.dev/2.8/v/missing"
     ]
    }
   ],
   "source": [
    "inputs = Inputs.model_validate(inputs_data,)\n",
    "st = StrategyEngine(inputs,)\n",
    "out = st.run()"
   ]
  },
  {
   "cell_type": "code",
   "execution_count": 2,
   "metadata": {},
   "outputs": [],
   "source": [
    "greeks = dict()\n",
    "greeks['delta'] = 10.75\n",
    "greeks['gamma'] = -1.57\n",
    "greeks['theta'] = 0.083\n",
    "greeks['vega'] = -0.41"
   ]
  },
  {
   "cell_type": "code",
   "execution_count": 19,
   "metadata": {},
   "outputs": [],
   "source": [
    "lot_size = 1\n",
    "multiplier = 100\n",
    "iv = 0.3\n",
    "s_0 = 37.58\n",
    "dte = 33 # days\n",
    "position_cost = -0.33\n",
    "position_value = position_cost * lot_size * multiplier"
   ]
  },
  {
   "cell_type": "code",
   "execution_count": 50,
   "metadata": {},
   "outputs": [
    {
     "data": {
      "text/html": [
       "<div>\n",
       "<style scoped>\n",
       "    .dataframe tbody tr th:only-of-type {\n",
       "        vertical-align: middle;\n",
       "    }\n",
       "\n",
       "    .dataframe tbody tr th {\n",
       "        vertical-align: top;\n",
       "    }\n",
       "\n",
       "    .dataframe thead th {\n",
       "        text-align: right;\n",
       "    }\n",
       "</style>\n",
       "<table border=\"1\" class=\"dataframe\">\n",
       "  <thead>\n",
       "    <tr style=\"text-align: right;\">\n",
       "      <th></th>\n",
       "      <th>0</th>\n",
       "      <th>1</th>\n",
       "    </tr>\n",
       "  </thead>\n",
       "  <tbody>\n",
       "    <tr>\n",
       "      <th>0</th>\n",
       "      <td>37.20</td>\n",
       "      <td>-4.311708</td>\n",
       "    </tr>\n",
       "    <tr>\n",
       "      <th>1</th>\n",
       "      <td>37.25</td>\n",
       "      <td>-3.718473</td>\n",
       "    </tr>\n",
       "    <tr>\n",
       "      <th>2</th>\n",
       "      <td>37.30</td>\n",
       "      <td>-3.133088</td>\n",
       "    </tr>\n",
       "    <tr>\n",
       "      <th>3</th>\n",
       "      <td>37.35</td>\n",
       "      <td>-2.555553</td>\n",
       "    </tr>\n",
       "    <tr>\n",
       "      <th>4</th>\n",
       "      <td>37.40</td>\n",
       "      <td>-1.985868</td>\n",
       "    </tr>\n",
       "    <tr>\n",
       "      <th>5</th>\n",
       "      <td>37.45</td>\n",
       "      <td>-1.424033</td>\n",
       "    </tr>\n",
       "    <tr>\n",
       "      <th>6</th>\n",
       "      <td>37.50</td>\n",
       "      <td>-0.870048</td>\n",
       "    </tr>\n",
       "    <tr>\n",
       "      <th>7</th>\n",
       "      <td>37.55</td>\n",
       "      <td>-0.323913</td>\n",
       "    </tr>\n",
       "    <tr>\n",
       "      <th>8</th>\n",
       "      <td>37.60</td>\n",
       "      <td>0.214372</td>\n",
       "    </tr>\n",
       "    <tr>\n",
       "      <th>9</th>\n",
       "      <td>37.65</td>\n",
       "      <td>0.744807</td>\n",
       "    </tr>\n",
       "    <tr>\n",
       "      <th>10</th>\n",
       "      <td>37.70</td>\n",
       "      <td>1.267392</td>\n",
       "    </tr>\n",
       "    <tr>\n",
       "      <th>11</th>\n",
       "      <td>37.75</td>\n",
       "      <td>1.782127</td>\n",
       "    </tr>\n",
       "    <tr>\n",
       "      <th>12</th>\n",
       "      <td>37.80</td>\n",
       "      <td>2.289012</td>\n",
       "    </tr>\n",
       "    <tr>\n",
       "      <th>13</th>\n",
       "      <td>37.85</td>\n",
       "      <td>2.788047</td>\n",
       "    </tr>\n",
       "    <tr>\n",
       "      <th>14</th>\n",
       "      <td>37.90</td>\n",
       "      <td>3.279232</td>\n",
       "    </tr>\n",
       "    <tr>\n",
       "      <th>15</th>\n",
       "      <td>37.95</td>\n",
       "      <td>3.762567</td>\n",
       "    </tr>\n",
       "  </tbody>\n",
       "</table>\n",
       "</div>"
      ],
      "text/plain": [
       "        0         1\n",
       "0   37.20 -4.311708\n",
       "1   37.25 -3.718473\n",
       "2   37.30 -3.133088\n",
       "3   37.35 -2.555553\n",
       "4   37.40 -1.985868\n",
       "5   37.45 -1.424033\n",
       "6   37.50 -0.870048\n",
       "7   37.55 -0.323913\n",
       "8   37.60  0.214372\n",
       "9   37.65  0.744807\n",
       "10  37.70  1.267392\n",
       "11  37.75  1.782127\n",
       "12  37.80  2.289012\n",
       "13  37.85  2.788047\n",
       "14  37.90  3.279232\n",
       "15  37.95  3.762567"
      ]
     },
     "execution_count": 50,
     "metadata": {},
     "output_type": "execute_result"
    }
   ],
   "source": [
    "s_min = round(s_0 * 0.99, 2)\n",
    "s_max = round(s_0 * 1.01, 2)\n",
    "price_range = np.arange(s_min, s_max, .05)\n",
    "price_difference = price_range - s_0\n",
    "adjusted_delta = greeks['delta'] + price_difference * greeks['gamma']\n",
    "new_value = position_value + price_difference * adjusted_delta\n",
    "pnl = new_value - position_value\n",
    "delta_pnl = pd.DataFrame((price_range, pnl)).T\n",
    "delta_pnl"
   ]
  }
 ],
 "metadata": {
  "kernelspec": {
   "display_name": "venv",
   "language": "python",
   "name": "python3"
  },
  "language_info": {
   "codemirror_mode": {
    "name": "ipython",
    "version": 3
   },
   "file_extension": ".py",
   "mimetype": "text/x-python",
   "name": "python",
   "nbconvert_exporter": "python",
   "pygments_lexer": "ipython3",
   "version": "3.11.9"
  }
 },
 "nbformat": 4,
 "nbformat_minor": 2
}
